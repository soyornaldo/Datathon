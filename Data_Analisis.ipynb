{
 "cells": [
  {
   "cell_type": "code",
   "execution_count": 178,
   "id": "4f487bf4-7a0d-4d27-b809-7e63cf3e0318",
   "metadata": {},
   "outputs": [],
   "source": [
    "import pandas as pd\n",
    "import numpy as np\n",
    "import mitosheet\n",
    "import matplotlib.pyplot as plt\n",
    "import seaborn as sns\n",
    "\n",
    "\n",
    "\n",
    "from sklearn.metrics import accuracy_score"
   ]
  },
  {
   "cell_type": "markdown",
   "id": "3919dd78-3643-47dc-b5fa-4d4766491cff",
   "metadata": {},
   "source": [
    "## 1- Abro train"
   ]
  },
  {
   "cell_type": "code",
   "execution_count": 206,
   "id": "7f297325-587b-4716-a635-e155b761e63f",
   "metadata": {},
   "outputs": [],
   "source": [
    "train = pd.read_parquet(r\"C:\\Users\\ornal\\Desktop\\CursoDataScience\\Datathon\\train1.parquet\")"
   ]
  },
  {
   "cell_type": "markdown",
   "id": "c53de019-7d55-4e4a-b700-f9a13bf68678",
   "metadata": {},
   "source": [
    "## 2- Preparando variables para entrenar el modelo\n",
    "#### X: train sin la columna 'category_price'\n",
    "#### y: columna 'category_price' de train\n",
    "\n",
    "#### X_train: porciento de X para entrenamiento\n",
    "#### X_test: porciento de X para test\n",
    "#### y_train: porciento de y para entrenamiento\n",
    "#### y_test: porciento de y para test"
   ]
  },
  {
   "cell_type": "code",
   "execution_count": 218,
   "id": "cf4c0e51-1912-46a9-b2e9-2c34317c23a7",
   "metadata": {},
   "outputs": [],
   "source": [
    "columnas_x = ['region', 'type', 'sqfeet', 'beds', 'baths', 'cats_allowed','dogs_allowed', 'smoking_allowed', 'wheelchair_access',\n",
    "               'electric_vehicle_charge', 'comes_furnished', 'laundry_options','parking_options', 'state']\n",
    "columna_y = ['category_price']"
   ]
  },
  {
   "cell_type": "code",
   "execution_count": 219,
   "id": "6db609fa-0acd-4804-afa2-fae41516b933",
   "metadata": {},
   "outputs": [],
   "source": [
    "X = train.loc[:,columnas_x]\n",
    "y = train.loc[:,columna_y]"
   ]
  },
  {
   "cell_type": "code",
   "execution_count": 221,
   "id": "af1c038d-794e-477b-9060-ccd438aad6a9",
   "metadata": {},
   "outputs": [],
   "source": [
    "from sklearn.model_selection import train_test_split\n",
    "X_train, X_test, y_train, y_test = train_test_split(\n",
    "    X,y,train_size=0.7)"
   ]
  },
  {
   "cell_type": "code",
   "execution_count": 222,
   "id": "8bc5b8b0-9855-4c91-89aa-cd8c7470bcb5",
   "metadata": {},
   "outputs": [
    {
     "data": {
      "text/plain": [
       "((241158, 14), (103354, 14), (241158, 1), (103354, 1))"
      ]
     },
     "execution_count": 222,
     "metadata": {},
     "output_type": "execute_result"
    }
   ],
   "source": [
    "X_train.shape, X_test.shape, y_train.shape, y_test.shape"
   ]
  },
  {
   "cell_type": "markdown",
   "id": "5e0ab17b-d8e6-44b4-9627-ec27f22e5631",
   "metadata": {},
   "source": [
    "## 3- DecisionTreeClassifier"
   ]
  },
  {
   "cell_type": "code",
   "execution_count": 226,
   "id": "071551e8-cded-4fea-b463-c54374b4a8d0",
   "metadata": {},
   "outputs": [],
   "source": [
    "from sklearn.tree import DecisionTreeClassifier\n",
    "from sklearn.metrics import f1_score\n",
    "clf = DecisionTreeClassifier(max_depth = 5000, random_state = 22) \n",
    "clf.fit(X_train.values,y_train.values)\n",
    "y_pred = clf.predict(X_test.values)"
   ]
  },
  {
   "cell_type": "code",
   "execution_count": 227,
   "id": "132c4122-f9ac-4285-a5bb-a49d9456c996",
   "metadata": {},
   "outputs": [
    {
     "data": {
      "text/plain": [
       "array([1, 0, 0, ..., 0, 1, 1], dtype=int64)"
      ]
     },
     "execution_count": 227,
     "metadata": {},
     "output_type": "execute_result"
    }
   ],
   "source": [
    "y_pred"
   ]
  },
  {
   "cell_type": "code",
   "execution_count": 229,
   "id": "897808bb-7f47-4652-a6d9-b336c1723ddd",
   "metadata": {},
   "outputs": [],
   "source": [
    "from sklearn.metrics import accuracy_score\n",
    "from sklearn.metrics import recall_score"
   ]
  },
  {
   "cell_type": "markdown",
   "id": "100510bb-6f44-4901-9772-c88c1d0daaab",
   "metadata": {},
   "source": [
    "## 4- Ejecuto y Verifico las métricas"
   ]
  },
  {
   "cell_type": "code",
   "execution_count": 230,
   "id": "d8748de9-6b06-4721-a99e-e8ed683e608e",
   "metadata": {},
   "outputs": [
    {
     "name": "stdout",
     "output_type": "stream",
     "text": [
      "Feature importance:  [0.21270675 0.02420957 0.28545198 0.02989283 0.03357738 0.01117422\n",
      " 0.0117397  0.01892919 0.0090337  0.00155472 0.01009935 0.1008366\n",
      " 0.04001176 0.21078225]\n",
      "Accuracy:  0.9221026762389457\n",
      "Recall:  0.9155109298190566\n",
      "F1 Score:  0.9157695406086857\n"
     ]
    }
   ],
   "source": [
    "print('Feature importance: ', clf.feature_importances_)\n",
    "print('Accuracy: ', accuracy_score(y_test,y_pred))\n",
    "print('Recall: ', recall_score(y_test,y_pred))\n",
    "print('F1 Score: ',f1_score(y_test, y_pred))"
   ]
  },
  {
   "cell_type": "markdown",
   "id": "97b84341-a320-48c2-aa5b-32a8a1acd194",
   "metadata": {},
   "source": [
    "## 5- Matriz Confusion"
   ]
  },
  {
   "cell_type": "code",
   "execution_count": 240,
   "id": "9dabea28-7d35-4cb8-aebf-c57a99fcab53",
   "metadata": {},
   "outputs": [
    {
     "data": {
      "image/png": "[encoded data removed]",
      "text/plain": [
       "<Figure size 864x576 with 1 Axes>"
      ]
     },
     "metadata": {
      "needs_background": "light"
     },
     "output_type": "display_data"
    }
   ],
   "source": [
    "from sklearn.metrics import confusion_matrix, classification_report\n",
    "cm = confusion_matrix(y_test, y_pred)\n",
    "\n",
    "text_kwargs = dict(fontsize=20, color='C1')\n",
    "\n",
    "fig, ax = plt.subplots(figsize=(12,8))\n",
    "ax.matshow(cm)\n",
    "plt.title('Matriz de Confusión', fontsize=20)\n",
    "plt.ylabel('Etiqueta Verdadera', fontsize=15)\n",
    "plt.xlabel('Etiqueta Predicha', fontsize=15)\n",
    "for (i, j), z in np.ndenumerate(cm):\n",
    "    ax.text(j, i, '{:0.1f}'.format(z), ha='center', va='center', **text_kwargs)"
   ]
  },
  {
   "cell_type": "markdown",
   "id": "c0b318f0-79b8-4b51-9e32-b403386c9768",
   "metadata": {},
   "source": [
    "## 6- Ejecuto los datos del test"
   ]
  },
  {
   "cell_type": "code",
   "execution_count": 241,
   "id": "ddf050f7-6a00-4f69-8cb1-7a96f8fdfec2",
   "metadata": {},
   "outputs": [],
   "source": [
    "test = pd.read_parquet(r\"C:\\Users\\ornal\\Desktop\\CursoDataScience\\Datathon\\test1.parquet\")"
   ]
  },
  {
   "cell_type": "code",
   "execution_count": 242,
   "id": "c1fb52f4-78b6-48da-954b-38fa1fd6fb05",
   "metadata": {},
   "outputs": [],
   "source": [
    "y_pred_final = clf.predict(test.values)"
   ]
  },
  {
   "cell_type": "code",
   "execution_count": 245,
   "id": "d9a8d849-1691-4028-a4d1-b39fd07df553",
   "metadata": {},
   "outputs": [],
   "source": [
    "df = pd.DataFrame(y_pred_final,columns=['pred'])"
   ]
  },
  {
   "cell_type": "markdown",
   "id": "d91a6171-9d7e-4e5e-8287-2e5ccdf57115",
   "metadata": {},
   "source": [
    "## 7- Salvo la respuesta"
   ]
  },
  {
   "cell_type": "code",
   "execution_count": 251,
   "id": "e9a277e7-559c-4c89-9a42-b997d4061113",
   "metadata": {},
   "outputs": [],
   "source": [
    "df.to_csv(r\"C:\\Users\\ornal\\Desktop\\CursoDataScience\\Datathon\\soyornaldo.csv\", index=False)"
   ]
  }
 ],
 "metadata": {
  "kernelspec": {
   "display_name": "Python 3 (ipykernel)",
   "language": "python",
   "name": "python3"
  },
  "language_info": {
   "codemirror_mode": {
    "name": "ipython",
    "version": 3
   },
   "file_extension": ".py",
   "mimetype": "text/x-python",
   "name": "python",
   "nbconvert_exporter": "python",
   "pygments_lexer": "ipython3",
   "version": "3.10.5"
  }
 },
 "nbformat": 4,
 "nbformat_minor": 5
}
