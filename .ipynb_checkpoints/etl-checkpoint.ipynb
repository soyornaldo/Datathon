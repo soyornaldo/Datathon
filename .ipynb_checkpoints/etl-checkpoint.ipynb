{
 "cells": [
  {
   "cell_type": "code",
   "execution_count": 1,
   "id": "302b3c47-e162-4c1a-886b-9a4c1f391af3",
   "metadata": {},
   "outputs": [],
   "source": [
    "import pandas as pd\n",
    "import numpy as np\n",
    "import mitosheet"
   ]
  },
  {
   "cell_type": "markdown",
   "id": "8116c341-81ee-43cf-b353-a1e357cc9a64",
   "metadata": {},
   "source": [
    "## 1-Abro train.parquet"
   ]
  },
  {
   "cell_type": "code",
   "execution_count": 2,
   "id": "de1e7629-a5a3-4e23-9805-41c6d67549a3",
   "metadata": {},
   "outputs": [],
   "source": [
    "train = pd.read_parquet(r\"C:\\Users\\ornal\\Desktop\\CursoDataScience\\Datathon\\train.parquet\")\n",
    "test = pd.read_parquet(r\"C:\\Users\\ornal\\Desktop\\CursoDataScience\\Datathon\\test.parquet\")"
   ]
  },
  {
   "cell_type": "markdown",
   "id": "f61e47c1-6139-4897-b5f8-d6aa7d29f9e8",
   "metadata": {},
   "source": [
    "# Empezamos con\n",
    "## train.info()\n",
    "   #### RangeIndex: 346479 entries, 0 to 346478\n",
    "   #### Data columns (total 22 columns):\n",
    "   #### dtypes: float64(3), int64(10), object(9)\n",
    "   #### memory usage: 58.2+ MB"
   ]
  },
  {
   "cell_type": "markdown",
   "id": "ca56ce41-d247-4605-bf81-fe55916c6c4a",
   "metadata": {},
   "source": [
    "## 2- Vamos a mejorar esos 58.2+ MB"
   ]
  },
  {
   "cell_type": "code",
   "execution_count": 3,
   "id": "35501f5f-6e39-445c-8012-0343572381e8",
   "metadata": {},
   "outputs": [
    {
     "name": "stdout",
     "output_type": "stream",
     "text": [
      "<class 'pandas.core.frame.DataFrame'>\n",
      "RangeIndex: 346479 entries, 0 to 346478\n",
      "Data columns (total 22 columns):\n",
      " #   Column                   Non-Null Count   Dtype   \n",
      "---  ------                   --------------   -----   \n",
      " 0   id                       346479 non-null  int64   \n",
      " 1   url                      346479 non-null  object  \n",
      " 2   region                   346479 non-null  category\n",
      " 3   region_url               346479 non-null  object  \n",
      " 4   price                    346479 non-null  int64   \n",
      " 5   type                     346479 non-null  category\n",
      " 6   sqfeet                   346479 non-null  int16   \n",
      " 7   beds                     346479 non-null  int8    \n",
      " 8   baths                    346479 non-null  float64 \n",
      " 9   cats_allowed             346479 non-null  int8    \n",
      " 10  dogs_allowed             346479 non-null  int8    \n",
      " 11  smoking_allowed          346479 non-null  int8    \n",
      " 12  wheelchair_access        346479 non-null  int8    \n",
      " 13  electric_vehicle_charge  346479 non-null  int8    \n",
      " 14  comes_furnished          346479 non-null  int8    \n",
      " 15  laundry_options          275308 non-null  object  \n",
      " 16  parking_options          219797 non-null  object  \n",
      " 17  image_url                346479 non-null  object  \n",
      " 18  description              346477 non-null  object  \n",
      " 19  lat                      344757 non-null  float64 \n",
      " 20  long                     344757 non-null  float64 \n",
      " 21  state                    346479 non-null  category\n",
      "dtypes: category(3), float64(3), int16(1), int64(2), int8(7), object(6)\n",
      "memory usage: 33.4+ MB\n"
     ]
    }
   ],
   "source": [
    "train['region'] = train['region'].astype('category')\n",
    "train['type'] = train['type'].astype('category')\n",
    "train['state'] = train['state'].astype('category')\n",
    "# int16 \n",
    "train['sqfeet'] = train['sqfeet'].astype('int16')\n",
    "\n",
    "# int8 \n",
    "train['beds'] = train['beds'].astype('int8')\n",
    "train['cats_allowed'] = train['cats_allowed'].astype('int8')\n",
    "train['dogs_allowed'] = train['dogs_allowed'].astype('int8')\n",
    "train['smoking_allowed'] = train['smoking_allowed'].astype('int8')\n",
    "train['wheelchair_access'] = train['wheelchair_access'].astype('int8')\n",
    "train['electric_vehicle_charge'] = train['electric_vehicle_charge'].astype('int8')\n",
    "train['comes_furnished'] = train['comes_furnished'].astype('int8')\n",
    "\n",
    "train.info()"
   ]
  },
  {
   "cell_type": "code",
   "execution_count": 4,
   "id": "eefa474a-f1e4-4455-b32b-bf9557544475",
   "metadata": {},
   "outputs": [
    {
     "name": "stdout",
     "output_type": "stream",
     "text": [
      "<class 'pandas.core.frame.DataFrame'>\n",
      "RangeIndex: 38498 entries, 0 to 38497\n",
      "Data columns (total 21 columns):\n",
      " #   Column                   Non-Null Count  Dtype   \n",
      "---  ------                   --------------  -----   \n",
      " 0   id                       38498 non-null  int64   \n",
      " 1   url                      38498 non-null  object  \n",
      " 2   region                   38498 non-null  category\n",
      " 3   region_url               38498 non-null  object  \n",
      " 4   type                     38498 non-null  category\n",
      " 5   sqfeet                   38498 non-null  int16   \n",
      " 6   beds                     38498 non-null  int8    \n",
      " 7   baths                    38498 non-null  float64 \n",
      " 8   cats_allowed             38498 non-null  int8    \n",
      " 9   dogs_allowed             38498 non-null  int8    \n",
      " 10  smoking_allowed          38498 non-null  int8    \n",
      " 11  wheelchair_access        38498 non-null  int8    \n",
      " 12  electric_vehicle_charge  38498 non-null  int8    \n",
      " 13  comes_furnished          38498 non-null  int8    \n",
      " 14  laundry_options          30643 non-null  object  \n",
      " 15  parking_options          24493 non-null  object  \n",
      " 16  image_url                38498 non-null  object  \n",
      " 17  description              38498 non-null  object  \n",
      " 18  lat                      38302 non-null  float64 \n",
      " 19  long                     38302 non-null  float64 \n",
      " 20  state                    38498 non-null  category\n",
      "dtypes: category(3), float64(3), int16(1), int64(1), int8(7), object(6)\n",
      "memory usage: 3.4+ MB\n"
     ]
    }
   ],
   "source": [
    "test['region'] = test['region'].astype('category')\n",
    "test['type'] = test['type'].astype('category')\n",
    "test['state'] = test['state'].astype('category')\n",
    "# int16 \n",
    "test['sqfeet'] = test['sqfeet'].astype('int16')\n",
    "\n",
    "# int8 \n",
    "test['beds'] = test['beds'].astype('int8')\n",
    "test['cats_allowed'] = test['cats_allowed'].astype('int8')\n",
    "test['dogs_allowed'] = test['dogs_allowed'].astype('int8')\n",
    "test['smoking_allowed'] = test['smoking_allowed'].astype('int8')\n",
    "test['wheelchair_access'] = test['wheelchair_access'].astype('int8')\n",
    "test['electric_vehicle_charge'] = test['electric_vehicle_charge'].astype('int8')\n",
    "test['comes_furnished'] = test['comes_furnished'].astype('int8')\n",
    "\n",
    "test.info()"
   ]
  },
  {
   "cell_type": "markdown",
   "id": "a72ac8a7-0cc3-49c8-9133-43c624b0ac81",
   "metadata": {},
   "source": [
    "## Hasta ahora tenemos\n",
    "#### RangeIndex: 346479 entries, 0 to 346478\n",
    "#### Data columns (total 22 columns):\n",
    "#### dtypes: category(3), float16(1), float64(2), int16(1), int64(2), int8(7), object(6)\n",
    "#### memory usage: 33.4+ MB"
   ]
  },
  {
   "cell_type": "markdown",
   "id": "6025820a-2538-497c-9325-22c5d8da0266",
   "metadata": {},
   "source": [
    "## 3- Busco los nulos\n",
    "#### laundry_options             71171\n",
    "#### parking_options            126682\n",
    "#### lat                          1722\n",
    "#### long                         1722"
   ]
  },
  {
   "cell_type": "code",
   "execution_count": 5,
   "id": "bebd2b2a-4f34-4884-b00b-5737778c2d64",
   "metadata": {},
   "outputs": [
    {
     "data": {
      "text/plain": [
       "id                              0\n",
       "url                             0\n",
       "region                          0\n",
       "region_url                      0\n",
       "price                           0\n",
       "type                            0\n",
       "sqfeet                          0\n",
       "beds                            0\n",
       "baths                           0\n",
       "cats_allowed                    0\n",
       "dogs_allowed                    0\n",
       "smoking_allowed                 0\n",
       "wheelchair_access               0\n",
       "electric_vehicle_charge         0\n",
       "comes_furnished                 0\n",
       "laundry_options             71171\n",
       "parking_options            126682\n",
       "image_url                       0\n",
       "description                     2\n",
       "lat                          1722\n",
       "long                         1722\n",
       "state                           0\n",
       "dtype: int64"
      ]
     },
     "execution_count": 5,
     "metadata": {},
     "output_type": "execute_result"
    }
   ],
   "source": [
    "train.isnull().sum()"
   ]
  },
  {
   "cell_type": "code",
   "execution_count": 6,
   "id": "710081c1-70ab-4334-a435-56038a661001",
   "metadata": {},
   "outputs": [
    {
     "data": {
      "text/plain": [
       "id                             0\n",
       "url                            0\n",
       "region                         0\n",
       "region_url                     0\n",
       "type                           0\n",
       "sqfeet                         0\n",
       "beds                           0\n",
       "baths                          0\n",
       "cats_allowed                   0\n",
       "dogs_allowed                   0\n",
       "smoking_allowed                0\n",
       "wheelchair_access              0\n",
       "electric_vehicle_charge        0\n",
       "comes_furnished                0\n",
       "laundry_options             7855\n",
       "parking_options            14005\n",
       "image_url                      0\n",
       "description                    0\n",
       "lat                          196\n",
       "long                         196\n",
       "state                          0\n",
       "dtype: int64"
      ]
     },
     "execution_count": 6,
     "metadata": {},
     "output_type": "execute_result"
    }
   ],
   "source": [
    "test.isnull().sum()"
   ]
  },
  {
   "cell_type": "markdown",
   "id": "78a54758-2b43-484b-96bf-d36a5f5b72a2",
   "metadata": {},
   "source": [
    "## 4- Tratamiento a nulos"
   ]
  },
  {
   "cell_type": "markdown",
   "id": "3705bb29-8f15-4c13-9c8f-0b9b84582763",
   "metadata": {},
   "source": [
    "## 4.1- laundry_options"
   ]
  },
  {
   "cell_type": "code",
   "execution_count": 7,
   "id": "7f8416b6-b0da-4bad-a7bd-ebb4b2cb14a0",
   "metadata": {},
   "outputs": [
    {
     "data": {
      "text/plain": [
       "array(['w/d in unit', 'w/d hookups', 'laundry on site', None,\n",
       "       'laundry in bldg', 'no laundry on site'], dtype=object)"
      ]
     },
     "execution_count": 7,
     "metadata": {},
     "output_type": "execute_result"
    }
   ],
   "source": [
    "train['laundry_options'].unique()"
   ]
  },
  {
   "cell_type": "markdown",
   "id": "97454046-1cb7-490f-9078-f4e7ee330aba",
   "metadata": {},
   "source": [
    "None               = 0\n",
    "w/d in unit        = 1\n",
    "w/d hookups        = 2\n",
    "laundry on site    = 3\n",
    "laundry in bldg    = 4\n",
    "no laundry on site = 0"
   ]
  },
  {
   "cell_type": "code",
   "execution_count": 53,
   "id": "0c57e5e7-3ccb-4266-a26b-775682d01a9a",
   "metadata": {},
   "outputs": [],
   "source": [
    "def laundry(x):\n",
    "  match x:\n",
    "    case 'no laundry on site':\n",
    "        return 0\n",
    "    case 'w/d in unit':\n",
    "        return 1\n",
    "    case 'w/d hookups':\n",
    "        return 2\n",
    "    case 'laundry on site':\n",
    "        return 3\n",
    "    case 'laundry in bldg':\n",
    "        return 4\n",
    "    case _: # None\n",
    "        return 0"
   ]
  },
  {
   "cell_type": "code",
   "execution_count": 9,
   "id": "2294da9c-d90a-4690-bbb9-76fc43fab723",
   "metadata": {},
   "outputs": [],
   "source": [
    "train['laundry_options'] = train['laundry_options'].apply(laundry)\n",
    "test['laundry_options'] = test['laundry_options'].apply(laundry)"
   ]
  },
  {
   "cell_type": "code",
   "execution_count": 10,
   "id": "67f48d18-548a-44d5-b6fd-bafae53d3ab3",
   "metadata": {},
   "outputs": [
    {
     "data": {
      "text/plain": [
       "array([1, 2, 3, 0, 4], dtype=int64)"
      ]
     },
     "execution_count": 10,
     "metadata": {},
     "output_type": "execute_result"
    }
   ],
   "source": [
    "train['laundry_options'].unique()"
   ]
  },
  {
   "cell_type": "code",
   "execution_count": 11,
   "id": "009b9cfc-f4bd-4993-aa9a-9b6d70efc026",
   "metadata": {},
   "outputs": [
    {
     "data": {
      "text/plain": [
       "array([1, 2, 3, 0, 4], dtype=int64)"
      ]
     },
     "execution_count": 11,
     "metadata": {},
     "output_type": "execute_result"
    }
   ],
   "source": [
    "test['laundry_options'].unique()"
   ]
  },
  {
   "cell_type": "code",
   "execution_count": 12,
   "id": "06cb54aa-89ef-434d-9fbe-41dff1ae5abc",
   "metadata": {},
   "outputs": [],
   "source": [
    "train['laundry_options'] = train['laundry_options'].astype('int8')\n",
    "test['laundry_options'] = test['laundry_options'].astype('int8')"
   ]
  },
  {
   "cell_type": "markdown",
   "id": "15f8bc61-0277-4a41-94b2-36c092d21aa8",
   "metadata": {},
   "source": [
    "## 4.2- parking_options"
   ]
  },
  {
   "cell_type": "code",
   "execution_count": 13,
   "id": "89d2ed42-da6d-45bf-a5f0-e4b6447742e0",
   "metadata": {},
   "outputs": [
    {
     "data": {
      "text/plain": [
       "array(['detached garage', 'carport', 'off-street parking', None,\n",
       "       'attached garage', 'street parking', 'no parking', 'valet parking'],\n",
       "      dtype=object)"
      ]
     },
     "execution_count": 13,
     "metadata": {},
     "output_type": "execute_result"
    }
   ],
   "source": [
    "train['parking_options'].unique()"
   ]
  },
  {
   "cell_type": "markdown",
   "id": "03389147-b37c-49f8-9267-500b276681e9",
   "metadata": {},
   "source": [
    "None               = 0\n",
    "detached garage    = 1\n",
    "carport            = 2\n",
    "off-street parking = 3\n",
    "attached garage    = 4\n",
    "street parking     = 5\n",
    "valet parking      = 6\n",
    "no parking         = 0"
   ]
  },
  {
   "cell_type": "code",
   "execution_count": 14,
   "id": "ebeb73f3-fc5b-4b05-a458-68ea4bddb212",
   "metadata": {},
   "outputs": [],
   "source": [
    "def parking(x):\n",
    "  match x:\n",
    "    case 'no parking':\n",
    "        return 0\n",
    "    case 'detached garage':\n",
    "        return 1\n",
    "    case 'carport':\n",
    "        return 2\n",
    "    case 'off-street parking':\n",
    "        return 3\n",
    "    case 'attached garage':\n",
    "        return 4\n",
    "    case 'street parking':\n",
    "        return 5\n",
    "    case 'valet parking':\n",
    "        return 6\n",
    "    case _: # None\n",
    "        return 0"
   ]
  },
  {
   "cell_type": "code",
   "execution_count": 15,
   "id": "39aa346c-c620-4f94-b74b-7bd6dc2ef4f9",
   "metadata": {},
   "outputs": [],
   "source": [
    "train['parking_options'] = train['parking_options'].apply(parking)\n",
    "test['parking_options'] = test['parking_options'].apply(parking)"
   ]
  },
  {
   "cell_type": "code",
   "execution_count": 16,
   "id": "a881315d-9c88-4d6f-aa78-5221212ac573",
   "metadata": {},
   "outputs": [
    {
     "data": {
      "text/plain": [
       "array([1, 2, 3, 0, 4, 5, 6], dtype=int64)"
      ]
     },
     "execution_count": 16,
     "metadata": {},
     "output_type": "execute_result"
    }
   ],
   "source": [
    "train['parking_options'].unique()"
   ]
  },
  {
   "cell_type": "code",
   "execution_count": 17,
   "id": "5bda7f58-1909-4682-b277-6ddc6c65a858",
   "metadata": {},
   "outputs": [
    {
     "data": {
      "text/plain": [
       "array([3, 2, 4, 0, 5, 1, 6], dtype=int64)"
      ]
     },
     "execution_count": 17,
     "metadata": {},
     "output_type": "execute_result"
    }
   ],
   "source": [
    "test['parking_options'].unique()"
   ]
  },
  {
   "cell_type": "code",
   "execution_count": 18,
   "id": "3333ea1c-4e0e-4a77-a61b-3752eed28944",
   "metadata": {},
   "outputs": [],
   "source": [
    "train['parking_options'] = train['parking_options'].astype('int8')\n",
    "test['parking_options'] = test['parking_options'].astype('int8')"
   ]
  },
  {
   "cell_type": "markdown",
   "id": "6809613e-71e1-4e6a-8b10-465ab4d2bea3",
   "metadata": {},
   "source": [
    "## 4.3- lat y long no los voy a usar"
   ]
  },
  {
   "cell_type": "code",
   "execution_count": 19,
   "id": "78c00cb2-86ae-49f7-95b0-b443fee8c5d6",
   "metadata": {},
   "outputs": [],
   "source": [
    "train.drop(['id','url','region_url','image_url','description','lat','long'],axis='columns',inplace=True)\n",
    "test.drop(['id','url','region_url','image_url','description','lat','long'],axis='columns',inplace=True)"
   ]
  },
  {
   "cell_type": "code",
   "execution_count": 20,
   "id": "c9ef97bc-c408-4201-b2a8-843e71690a7f",
   "metadata": {},
   "outputs": [],
   "source": [
    "#nulos = train[train['lat'].isnull() & train['long'].isnull()]\n",
    "#no_nulos = train[train['lat'].notna() & train['long'].notna()]"
   ]
  },
  {
   "cell_type": "code",
   "execution_count": 21,
   "id": "26eb3ac4-b7c2-4f53-a7b8-1133ebc4a5f4",
   "metadata": {},
   "outputs": [],
   "source": [
    "#print(nulos.shape[0]+no_nulos.shape[0],train.shape[0])"
   ]
  },
  {
   "cell_type": "code",
   "execution_count": 22,
   "id": "213f5da1-e26f-46f2-9565-ca6d1832a8ed",
   "metadata": {},
   "outputs": [
    {
     "data": {
      "text/plain": [
       "\"for index,row in nulos.iterrows():\\n    temp = train[(train.state == row.state) & (train.region == row.region)]\\n    if temp.shape[0] > 0:\\n        nulos.loc[nulos.id == row.id,'lat'] = temp.iloc[0]['lat']\\n        nulos.loc[nulos.id == row.id,'long'] = temp.iloc[0]['long']\""
      ]
     },
     "execution_count": 22,
     "metadata": {},
     "output_type": "execute_result"
    }
   ],
   "source": [
    "'''for index,row in nulos.iterrows():\n",
    "    temp = train[(train.state == row.state) & (train.region == row.region)]\n",
    "    if temp.shape[0] > 0:\n",
    "        nulos.loc[nulos.id == row.id,'lat'] = temp.iloc[0]['lat']\n",
    "        nulos.loc[nulos.id == row.id,'long'] = temp.iloc[0]['long']'''"
   ]
  },
  {
   "cell_type": "code",
   "execution_count": 23,
   "id": "abd1d17e-ac16-4688-b7b5-3f839f69e34c",
   "metadata": {},
   "outputs": [],
   "source": [
    "#train1 = pd.concat([nulos,no_nulos])"
   ]
  },
  {
   "cell_type": "code",
   "execution_count": 24,
   "id": "dea69438-3c65-4ad7-a5ec-6a1d70add794",
   "metadata": {},
   "outputs": [],
   "source": [
    "#train1.isnull().sum()"
   ]
  },
  {
   "cell_type": "code",
   "execution_count": 25,
   "id": "92e81a0a-7f47-4f46-baa9-9b3645f2098e",
   "metadata": {},
   "outputs": [
    {
     "data": {
      "text/plain": [
       "region                     0\n",
       "price                      0\n",
       "type                       0\n",
       "sqfeet                     0\n",
       "beds                       0\n",
       "baths                      0\n",
       "cats_allowed               0\n",
       "dogs_allowed               0\n",
       "smoking_allowed            0\n",
       "wheelchair_access          0\n",
       "electric_vehicle_charge    0\n",
       "comes_furnished            0\n",
       "laundry_options            0\n",
       "parking_options            0\n",
       "state                      0\n",
       "dtype: int64"
      ]
     },
     "execution_count": 25,
     "metadata": {},
     "output_type": "execute_result"
    }
   ],
   "source": [
    "train.isnull().sum()"
   ]
  },
  {
   "cell_type": "code",
   "execution_count": 26,
   "id": "a1e0200b-818f-4823-888a-88c7e6a936eb",
   "metadata": {},
   "outputs": [
    {
     "data": {
      "text/plain": [
       "region                     0\n",
       "type                       0\n",
       "sqfeet                     0\n",
       "beds                       0\n",
       "baths                      0\n",
       "cats_allowed               0\n",
       "dogs_allowed               0\n",
       "smoking_allowed            0\n",
       "wheelchair_access          0\n",
       "electric_vehicle_charge    0\n",
       "comes_furnished            0\n",
       "laundry_options            0\n",
       "parking_options            0\n",
       "state                      0\n",
       "dtype: int64"
      ]
     },
     "execution_count": 26,
     "metadata": {},
     "output_type": "execute_result"
    }
   ],
   "source": [
    "test.isnull().sum()"
   ]
  },
  {
   "cell_type": "markdown",
   "id": "a9e71490-4b00-4cd1-b745-464ae50b5e2f",
   "metadata": {},
   "source": [
    "## 5- Continúo con la codificación de la información"
   ]
  },
  {
   "cell_type": "markdown",
   "id": "5accb217-154f-4507-ba67-b098fc800b93",
   "metadata": {},
   "source": [
    "## 5.1- Creo un clasificador de regiones"
   ]
  },
  {
   "cell_type": "code",
   "execution_count": 27,
   "id": "585e4f59-c3b2-4e64-b7be-c4b76d92e081",
   "metadata": {},
   "outputs": [],
   "source": [
    "region = pd.DataFrame(list(train.region.unique()),\n",
    "                     index = range(1,len(list(train.region.unique()))+1),\n",
    "                     columns = ['nombre']                 \n",
    "                     )"
   ]
  },
  {
   "cell_type": "code",
   "execution_count": 28,
   "id": "a13a57ab-323c-4d53-896d-150c26557609",
   "metadata": {},
   "outputs": [],
   "source": [
    "region.to_csv(r\"C:\\Users\\ornal\\Desktop\\CursoDataScience\\Datathon\\region.csv\")"
   ]
  },
  {
   "cell_type": "code",
   "execution_count": 29,
   "id": "f7b278f1-bc43-456c-8f70-ada03ae9437a",
   "metadata": {},
   "outputs": [],
   "source": [
    "def regiones(x):\n",
    "    return region.index[region['nombre'] == x].tolist()[0]"
   ]
  },
  {
   "cell_type": "code",
   "execution_count": 30,
   "id": "1bc73e24-f268-4e78-a0fb-cbb2a232b411",
   "metadata": {},
   "outputs": [],
   "source": [
    "train['region'] = train['region'].apply(regiones)"
   ]
  },
  {
   "cell_type": "code",
   "execution_count": 31,
   "id": "dfb634a5-ca12-4b76-b4ae-5a6cb821b07e",
   "metadata": {},
   "outputs": [],
   "source": [
    "test['region'] = test['region'].apply(regiones)"
   ]
  },
  {
   "cell_type": "code",
   "execution_count": 32,
   "id": "0d45e3d7-7b3a-49e2-97d5-048ade86c5bc",
   "metadata": {},
   "outputs": [],
   "source": [
    "train['region'] = train['region'].astype('int16')\n",
    "test['region'] = test['region'].astype('int16')"
   ]
  },
  {
   "cell_type": "markdown",
   "id": "cc50b614-0557-4163-b9a0-50183eab8769",
   "metadata": {},
   "source": [
    "## 5.2- Creo un clasificador de estados"
   ]
  },
  {
   "cell_type": "code",
   "execution_count": 33,
   "id": "36fe78db-88ee-484a-b719-60b661700ea9",
   "metadata": {},
   "outputs": [],
   "source": [
    "state = pd.DataFrame(list(train.state.unique()),\n",
    "                     index = range(1,len(list(train.state.unique()))+1),\n",
    "                     columns = ['nombre']                 \n",
    "                     )"
   ]
  },
  {
   "cell_type": "code",
   "execution_count": 34,
   "id": "c6ed2a65-9d18-4816-93d6-087dc34025ae",
   "metadata": {},
   "outputs": [],
   "source": [
    "state.to_csv(r\"C:\\Users\\ornal\\Desktop\\CursoDataScience\\Datathon\\state.csv\")"
   ]
  },
  {
   "cell_type": "code",
   "execution_count": 35,
   "id": "6c9db1ef-ee4f-40c1-a613-acff3204e204",
   "metadata": {},
   "outputs": [],
   "source": [
    "def states(x):\n",
    "    return state.index[state['nombre'] == x].tolist()[0]"
   ]
  },
  {
   "cell_type": "code",
   "execution_count": 36,
   "id": "64df2995-4599-4082-8fad-476ff53b0f1c",
   "metadata": {},
   "outputs": [],
   "source": [
    "train['state'] = train['state'].apply(states)"
   ]
  },
  {
   "cell_type": "code",
   "execution_count": 37,
   "id": "a8bda477-5514-4111-8375-1868e043e92d",
   "metadata": {},
   "outputs": [],
   "source": [
    "test['state'] = test['state'].apply(states)"
   ]
  },
  {
   "cell_type": "markdown",
   "id": "91f43b2b-4974-4b88-ad17-3e94e3700a32",
   "metadata": {},
   "source": [
    "## 5.3- Creo un Clasificador de types"
   ]
  },
  {
   "cell_type": "code",
   "execution_count": 38,
   "id": "c913a5b6-7480-4170-936d-ce4893e690a9",
   "metadata": {},
   "outputs": [],
   "source": [
    "tipo = pd.DataFrame(list(train.type.unique()),\n",
    "                     index = range(1,len(list(train.type.unique()))+1),\n",
    "                     columns = ['nombre']                 \n",
    "                     )"
   ]
  },
  {
   "cell_type": "code",
   "execution_count": 39,
   "id": "a723afc9-e845-4612-9db7-60157aa9c1dc",
   "metadata": {},
   "outputs": [],
   "source": [
    "tipo.to_csv(r\"C:\\Users\\ornal\\Desktop\\CursoDataScience\\Datathon\\tipo.csv\")"
   ]
  },
  {
   "cell_type": "code",
   "execution_count": 40,
   "id": "cb870464-31fa-4a71-90d5-7218846d59b1",
   "metadata": {},
   "outputs": [],
   "source": [
    "def tipos(x):\n",
    "    return tipo.index[tipo['nombre'] == x].tolist()[0]"
   ]
  },
  {
   "cell_type": "code",
   "execution_count": 41,
   "id": "6f27a105-e128-4ebd-9d17-5db1ac1d6b54",
   "metadata": {},
   "outputs": [],
   "source": [
    "train['type'] = train['type'].apply(tipos)"
   ]
  },
  {
   "cell_type": "code",
   "execution_count": 42,
   "id": "5fe51110-5132-4157-9354-840603a464b5",
   "metadata": {},
   "outputs": [],
   "source": [
    "test['type'] = test['type'].apply(tipos)"
   ]
  },
  {
   "cell_type": "markdown",
   "id": "c4de983e-723b-439f-abeb-3aa24dc08655",
   "metadata": {},
   "source": [
    "## 6- Crear columna category_price"
   ]
  },
  {
   "cell_type": "code",
   "execution_count": 43,
   "id": "31b4e039-bec1-4629-8166-8249fb77b282",
   "metadata": {},
   "outputs": [],
   "source": [
    "def cat_price(x):\n",
    "    if x < 1000:\n",
    "        return 1\n",
    "    return 0"
   ]
  },
  {
   "cell_type": "markdown",
   "id": "2c215cff-9b09-4eda-98a5-b6b2d1cfeab1",
   "metadata": {},
   "source": [
    "### 6.1- Primero elilimino los precios sin sentido"
   ]
  },
  {
   "cell_type": "code",
   "execution_count": 44,
   "id": "9791d45a-f936-4488-8a09-3c7894b5f143",
   "metadata": {},
   "outputs": [],
   "source": [
    "train.drop(train[train['price'] < 90].index, inplace=True)"
   ]
  },
  {
   "cell_type": "code",
   "execution_count": 45,
   "id": "0835437a-ee81-45ff-9f05-0e0426922f8a",
   "metadata": {},
   "outputs": [],
   "source": [
    "train['category_price'] = train['price'].apply(cat_price)"
   ]
  },
  {
   "cell_type": "markdown",
   "id": "038c714d-58bb-476a-873d-765493e0170d",
   "metadata": {},
   "source": [
    "### 6.2- Elimino columna price"
   ]
  },
  {
   "cell_type": "code",
   "execution_count": 46,
   "id": "711c342e-9297-42f2-addd-a1b3be0acb54",
   "metadata": {},
   "outputs": [],
   "source": [
    "train.drop(['price'],axis='columns',inplace=True)"
   ]
  },
  {
   "cell_type": "code",
   "execution_count": 54,
   "id": "d75619e6-9643-40a5-898d-ec7365795e5f",
   "metadata": {},
   "outputs": [
    {
     "name": "stdout",
     "output_type": "stream",
     "text": [
      "<class 'pandas.core.frame.DataFrame'>\n",
      "Int64Index: 344512 entries, 0 to 346478\n",
      "Data columns (total 15 columns):\n",
      " #   Column                   Non-Null Count   Dtype   \n",
      "---  ------                   --------------   -----   \n",
      " 0   region                   344512 non-null  int16   \n",
      " 1   type                     344512 non-null  category\n",
      " 2   sqfeet                   344512 non-null  int16   \n",
      " 3   beds                     344512 non-null  int8    \n",
      " 4   baths                    344512 non-null  float64 \n",
      " 5   cats_allowed             344512 non-null  int8    \n",
      " 6   dogs_allowed             344512 non-null  int8    \n",
      " 7   smoking_allowed          344512 non-null  int8    \n",
      " 8   wheelchair_access        344512 non-null  int8    \n",
      " 9   electric_vehicle_charge  344512 non-null  int8    \n",
      " 10  comes_furnished          344512 non-null  int8    \n",
      " 11  laundry_options          344512 non-null  int8    \n",
      " 12  parking_options          344512 non-null  int8    \n",
      " 13  state                    344512 non-null  category\n",
      " 14  category_price           344512 non-null  int64   \n",
      "dtypes: category(2), float64(1), int16(2), int64(1), int8(9)\n",
      "memory usage: 12.8 MB\n"
     ]
    }
   ],
   "source": [
    "train.info()"
   ]
  },
  {
   "cell_type": "markdown",
   "id": "5db7f0e3-58f5-4a73-a637-1a360eb3eb62",
   "metadata": {},
   "source": [
    "## 7- Resumen"
   ]
  },
  {
   "cell_type": "markdown",
   "id": "5eac88fd-b282-4050-b270-133b156b6fb2",
   "metadata": {},
   "source": [
    "### Empezamos con\n",
    "   dtypes: float64(3), int64(10), object(9)\n",
    "   memory usage: 58.2+ MB\n",
    "\n",
    "### Terminamos con\n",
    "   dtypes: category(3), float16(3), int16(1), int64(2), int8(9), object(4)\n",
    "   memory usage: 12.8 MB"
   ]
  },
  {
   "cell_type": "markdown",
   "id": "eab57624-e78a-43d3-9cfe-abe7b39d7e5f",
   "metadata": {},
   "source": [
    "## Salvo en disco los csv son para uso mio interno"
   ]
  },
  {
   "cell_type": "code",
   "execution_count": 47,
   "id": "765b0c66-616d-4985-aebe-cd776a613352",
   "metadata": {},
   "outputs": [],
   "source": [
    "train.to_parquet(r\"C:\\Users\\ornal\\Desktop\\CursoDataScience\\Datathon\\train1.parquet\",index=False)"
   ]
  },
  {
   "cell_type": "code",
   "execution_count": 48,
   "id": "ad3d7175-e421-4844-ba93-4acc56a57480",
   "metadata": {},
   "outputs": [],
   "source": [
    "test.to_parquet(r\"C:\\Users\\ornal\\Desktop\\CursoDataScience\\Datathon\\test1.parquet\",index=False)"
   ]
  },
  {
   "cell_type": "code",
   "execution_count": 49,
   "id": "3f79578b-9e5d-447a-bca9-9e9454aef531",
   "metadata": {},
   "outputs": [],
   "source": [
    "train.to_csv(r\"C:\\Users\\ornal\\Desktop\\CursoDataScience\\Datathon\\train1.csv\",index=False)"
   ]
  },
  {
   "cell_type": "code",
   "execution_count": 50,
   "id": "65e15d9d-fccf-42d8-95fa-a36770b541ff",
   "metadata": {},
   "outputs": [],
   "source": [
    "test.to_csv(r\"C:\\Users\\ornal\\Desktop\\CursoDataScience\\Datathon\\test1.csv\",index=False)"
   ]
  }
 ],
 "metadata": {
  "kernelspec": {
   "display_name": "Python 3 (ipykernel)",
   "language": "python",
   "name": "python3"
  },
  "language_info": {
   "codemirror_mode": {
    "name": "ipython",
    "version": 3
   },
   "file_extension": ".py",
   "mimetype": "text/x-python",
   "name": "python",
   "nbconvert_exporter": "python",
   "pygments_lexer": "ipython3",
   "version": "3.10.5"
  }
 },
 "nbformat": 4,
 "nbformat_minor": 5
}
